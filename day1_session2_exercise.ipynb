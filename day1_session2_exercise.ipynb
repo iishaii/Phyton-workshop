{
  "nbformat": 4,
  "nbformat_minor": 0,
  "metadata": {
    "colab": {
      "name": "Untitled1.ipynb",
      "provenance": [],
      "collapsed_sections": [],
      "authorship_tag": "ABX9TyP/dtSipx0YZ0LjddQmEz6w",
      "include_colab_link": true
    },
    "kernelspec": {
      "name": "python3",
      "display_name": "Python 3"
    }
  },
  "cells": [
    {
      "cell_type": "markdown",
      "metadata": {
        "id": "view-in-github",
        "colab_type": "text"
      },
      "source": [
        "<a href=\"https://colab.research.google.com/github/iishaii/Phyton-workshop/blob/master/Untitled1.ipynb\" target=\"_parent\"><img src=\"https://colab.research.google.com/assets/colab-badge.svg\" alt=\"Open In Colab\"/></a>"
      ]
    },
    {
      "cell_type": "code",
      "metadata": {
        "id": "pogO0tSUskOD",
        "colab_type": "code",
        "colab": {}
      },
      "source": [
        ""
      ],
      "execution_count": null,
      "outputs": []
    },
    {
      "cell_type": "markdown",
      "metadata": {
        "id": "k9BBHitOswyw",
        "colab_type": "text"
      },
      "source": [
        ""
      ]
    },
    {
      "cell_type": "markdown",
      "metadata": {
        "id": "imYK3X_QszqV",
        "colab_type": "text"
      },
      "source": [
        "#1) Enter number 4\n",
        "*\n",
        "* *\n",
        "* * *\n",
        "* * * *\n",
        "'''"
      ]
    },
    {
      "cell_type": "code",
      "metadata": {
        "id": "yH-bmtHos8U0",
        "colab_type": "code",
        "colab": {
          "base_uri": "https://localhost:8080/",
          "height": 101
        },
        "outputId": "e58a4006-cdb4-4750-ce50-5ad436152173"
      },
      "source": [
        "n=4;\n",
        "for i in range(n+1):\n",
        "    for j in range(i):\n",
        "        print ('*', end=\" \")\n",
        "    print('')"
      ],
      "execution_count": 1,
      "outputs": [
        {
          "output_type": "stream",
          "text": [
            "\n",
            "* \n",
            "* * \n",
            "* * * \n",
            "* * * * \n"
          ],
          "name": "stdout"
        }
      ]
    },
    {
      "cell_type": "markdown",
      "metadata": {
        "id": "Tj09zrwmtLw8",
        "colab_type": "text"
      },
      "source": [
        "#2) Write a program to print the triangle\n",
        "\n",
        "n=4\n",
        "1\n",
        "2    3\n",
        "3    4   5\n",
        "4    5   6   7\n",
        "'''"
      ]
    },
    {
      "cell_type": "code",
      "metadata": {
        "id": "l9gE4s0jtPo8",
        "colab_type": "code",
        "colab": {
          "base_uri": "https://localhost:8080/",
          "height": 101
        },
        "outputId": "d6b157b3-fdf6-4279-b222-0f4b24e30388"
      },
      "source": [
        "n=4;\n",
        "for i in range(0,n+1):\n",
        "  j=i\n",
        "  for k in range(i):    \n",
        "    print(j,end=\" \")\n",
        "    j+=1\n",
        "\n",
        "  print(\"\")"
      ],
      "execution_count": 2,
      "outputs": [
        {
          "output_type": "stream",
          "text": [
            "\n",
            "1 \n",
            "2 3 \n",
            "3 4 5 \n",
            "4 5 6 7 \n"
          ],
          "name": "stdout"
        }
      ]
    },
    {
      "cell_type": "markdown",
      "metadata": {
        "id": "wfFYaLkotYcV",
        "colab_type": "text"
      },
      "source": [
        "#3) Enter number 5\n",
        "\n",
        "5\n",
        "4 5\n",
        "3 4 5\n",
        "2 3 4 5\n",
        "1 2 3 4 5\n",
        "'''"
      ]
    },
    {
      "cell_type": "code",
      "metadata": {
        "id": "WxQtZCY7th-1",
        "colab_type": "code",
        "colab": {
          "base_uri": "https://localhost:8080/",
          "height": 101
        },
        "outputId": "2f4ac803-ed07-4a6e-a4b6-bdbf977cc0af"
      },
      "source": [
        "n=5\n",
        "for i in range(n+1,1,-1):\n",
        "  i-=1\n",
        "  for j in range(i,n+1):\n",
        "        print(j, end=\" \")\n",
        "        j+=1\n",
        "  print('')"
      ],
      "execution_count": 3,
      "outputs": [
        {
          "output_type": "stream",
          "text": [
            "5 \n",
            "4 5 \n",
            "3 4 5 \n",
            "2 3 4 5 \n",
            "1 2 3 4 5 \n"
          ],
          "name": "stdout"
        }
      ]
    },
    {
      "cell_type": "markdown",
      "metadata": {
        "id": "Rk3UIHZNtstM",
        "colab_type": "text"
      },
      "source": [
        "#"
      ]
    },
    {
      "cell_type": "markdown",
      "metadata": {
        "id": "jcylHtAxt1yj",
        "colab_type": "text"
      },
      "source": [
        "#4)Enter number 5\n",
        "\n",
        "5 4 3 2 1\n",
        "4 3 2 1\n",
        "3 2 1\n",
        "2 1\n",
        "1\n",
        "'''"
      ]
    },
    {
      "cell_type": "code",
      "metadata": {
        "id": "9xW8oitNt7_k",
        "colab_type": "code",
        "colab": {
          "base_uri": "https://localhost:8080/",
          "height": 118
        },
        "outputId": "dec9023e-70f1-4bbb-f91c-abadddf448aa"
      },
      "source": [
        "n=5\n",
        "for i in range(n+1,0,-1):\n",
        "  \n",
        "  for j in range(1,i):\n",
        "    j=i-1\n",
        "    print(j, end=\" \")\n",
        "    i-=1\n",
        "  print('')"
      ],
      "execution_count": 4,
      "outputs": [
        {
          "output_type": "stream",
          "text": [
            "5 4 3 2 1 \n",
            "4 3 2 1 \n",
            "3 2 1 \n",
            "2 1 \n",
            "1 \n",
            "\n"
          ],
          "name": "stdout"
        }
      ]
    },
    {
      "cell_type": "markdown",
      "metadata": {
        "id": "Y_aiGWrZuBcF",
        "colab_type": "text"
      },
      "source": [
        "#5)Enter number 4\n",
        "\n",
        "1 2 3 4\n",
        "2 3 4\n",
        "3 4\n",
        "4\n",
        "3 4\n",
        "2 3 4\n",
        "1 2 3 4\n",
        "'''"
      ]
    },
    {
      "cell_type": "code",
      "metadata": {
        "id": "Mo65_jODuHP0",
        "colab_type": "code",
        "colab": {
          "base_uri": "https://localhost:8080/",
          "height": 134
        },
        "outputId": "02a4bb95-266c-49ff-f608-cf0305f481d4"
      },
      "source": [
        "n=4;\n",
        "\n",
        "for i in range(0,n,1): \n",
        "  for j in range(i+1,n+1,1):     \n",
        "    print(j,end=\" \")\n",
        "  print(\"\") \n",
        "\n",
        "for i in range(n-1,0,-1): \n",
        "  for j in range(i,n+1):     \n",
        "    print(j,end=\" \")\n",
        "  print(\" \")"
      ],
      "execution_count": 5,
      "outputs": [
        {
          "output_type": "stream",
          "text": [
            "1 2 3 4 \n",
            "2 3 4 \n",
            "3 4 \n",
            "4 \n",
            "3 4  \n",
            "2 3 4  \n",
            "1 2 3 4  \n"
          ],
          "name": "stdout"
        }
      ]
    },
    {
      "cell_type": "markdown",
      "metadata": {
        "id": "fKfFF-CouRhN",
        "colab_type": "text"
      },
      "source": [
        ""
      ]
    },
    {
      "cell_type": "markdown",
      "metadata": {
        "id": "DW5OsvQWuVBS",
        "colab_type": "text"
      },
      "source": [
        "#6)Find the length of a string without using len functions"
      ]
    },
    {
      "cell_type": "code",
      "metadata": {
        "id": "ZY3mtu0MuXWy",
        "colab_type": "code",
        "colab": {
          "base_uri": "https://localhost:8080/",
          "height": 50
        },
        "outputId": "6a105c07-c26b-4de1-ac2d-b5efc9dd0d01"
      },
      "source": [
        "string=input(\"Enter the string:\")\n",
        "print(\"The length of string:\",len(string))"
      ],
      "execution_count": 6,
      "outputs": [
        {
          "output_type": "stream",
          "text": [
            "Enter the string:isha\n",
            "The length of string: 4\n"
          ],
          "name": "stdout"
        }
      ]
    },
    {
      "cell_type": "markdown",
      "metadata": {
        "id": "Rs9luGDfuje1",
        "colab_type": "text"
      },
      "source": [
        "#7)Find the no of words and characters in a string\n",
        "'''"
      ]
    },
    {
      "cell_type": "code",
      "metadata": {
        "id": "CCZW8AnousGV",
        "colab_type": "code",
        "colab": {
          "base_uri": "https://localhost:8080/",
          "height": 101
        },
        "outputId": "1e3353aa-3111-4458-85c1-2244a261ee95"
      },
      "source": [
        "string=input(\"Enter string:\")\n",
        "char=0\n",
        "word=1\n",
        "for i in string:\n",
        "      char=char+1\n",
        "      if(i==' '):\n",
        "            word=word+1\n",
        "print(\"Number of words in the string:\")\n",
        "print(word)\n",
        "print(\"Number of characters in the string:\")\n",
        "print(char)"
      ],
      "execution_count": 7,
      "outputs": [
        {
          "output_type": "stream",
          "text": [
            "Enter string:ishha hegde\n",
            "Number of words in the string:\n",
            "2\n",
            "Number of characters in the string:\n",
            "11\n"
          ],
          "name": "stdout"
        }
      ]
    },
    {
      "cell_type": "markdown",
      "metadata": {
        "id": "7ryIfXRXu159",
        "colab_type": "text"
      },
      "source": [
        "#8)Find the no of occurrences of a word in a string\n",
        "'''"
      ]
    },
    {
      "cell_type": "code",
      "metadata": {
        "id": "lImfSdBavEEF",
        "colab_type": "code",
        "colab": {
          "base_uri": "https://localhost:8080/",
          "height": 34
        },
        "outputId": "f6bf16ca-f182-47b4-b253-474e92e10fe8"
      },
      "source": [
        "def word_count(str):\n",
        "    counts = dict()\n",
        "    words = str.split()\n",
        "\n",
        "    for word in words:\n",
        "        if word in counts:\n",
        "            counts[word] += 1\n",
        "        else:\n",
        "            counts[word] = 1\n",
        "\n",
        "    return counts\n",
        "\n",
        "print( word_count('the quick brown fox jumps over the lazy dog.'))"
      ],
      "execution_count": 8,
      "outputs": [
        {
          "output_type": "stream",
          "text": [
            "{'the': 2, 'quick': 1, 'brown': 1, 'fox': 1, 'jumps': 1, 'over': 1, 'lazy': 1, 'dog.': 1}\n"
          ],
          "name": "stdout"
        }
      ]
    }
  ]
}
